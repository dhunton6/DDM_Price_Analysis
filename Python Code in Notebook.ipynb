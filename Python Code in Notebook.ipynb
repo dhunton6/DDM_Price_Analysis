{
 "cells": [
  {
   "cell_type": "markdown",
   "metadata": {},
   "source": [
    "Load libraries and data files"
   ]
  },
  {
   "cell_type": "code",
   "execution_count": 100,
   "metadata": {},
   "outputs": [],
   "source": [
    "import pandas as pd\n",
    "import sqlite3\n",
    "from sqlite3 import Error\n",
    "\n",
    "minis_temp = pd.read_csv('all_minis.csv')\n",
    "store_list = pd.read_csv('CoolStuffScrape.csv')\n",
    "ebay_temp = pd.read_csv('ebay.csv')"
   ]
  },
  {
   "cell_type": "markdown",
   "metadata": {},
   "source": [
    "Create commands for making empty tables for all 3 data sets"
   ]
  },
  {
   "cell_type": "code",
   "execution_count": 101,
   "metadata": {},
   "outputs": [],
   "source": [
    "command1 = \"\"\"CREATE TABLE IF NOT EXISTS minis(fig_key TEXT PRIMARY KEY, \n",
    "              'set' TEXT, num TEXT, name TEXT, age FLOAT, orig FLOAT, \n",
    "              rarity TEXT, repaint INTEGER, size TEXT);\"\"\"\n",
    "\n",
    "command2 = \"\"\"CREATE TABLE IF NOT EXISTS store(name TEXT, 'set' TEXT, \n",
    "              'number' TEXT, rarity TEXT, price FLOAT);\"\"\"\n",
    "\n",
    "command3 = \"\"\"CREATE TABLE IF NOT EXISTS ebay('set' TEXT, condition TEXT, \n",
    "              list_type TEXT, list_time INTEGER, price FLOAT);\"\"\""
   ]
  },
  {
   "cell_type": "markdown",
   "metadata": {},
   "source": [
    "Open empty database, create tables and load data into them, then save it. Use try-except-finally to make sure connection doesn't stay open if there is an error."
   ]
  },
  {
   "cell_type": "code",
   "execution_count": 102,
   "metadata": {},
   "outputs": [
    {
     "name": "stdout",
     "output_type": "stream",
     "text": [
      "All connections closed\n"
     ]
    }
   ],
   "source": [
    "try:\n",
    "    conn = sqlite3.connect('DnDMinisInfo.db')\n",
    "    c = conn.cursor()\n",
    "    \n",
    "    # Create tables and save database structure\n",
    "    c.execute(command1)   \n",
    "    c.execute(command2)\n",
    "    c.execute(command3)    \n",
    "    conn.commit()\n",
    "    \n",
    "    # LOAD DATA INTO TABLES\n",
    "    minis_list = minis_temp[['Key', 'Set', 'Num', 'Name', 'Age', 'Orig', \n",
    "                            'Rarity', 'Repaint', 'Size']]\n",
    "    minis_list.to_sql('minis', conn, if_exists = 'replace', index = False)\n",
    "    \n",
    "    store_list.to_sql('store', conn, if_exists = 'replace', index = False)\n",
    "\n",
    "    ebay_list = ebay_temp[['Set', 'Condition', 'ListingType', 'ListingTime',\n",
    "                         'CurrentPrice']]\n",
    "    ebay_list.to_sql('ebay', conn, if_exists = 'replace', index = False)\n",
    "\n",
    "    # Then save the newly completed database\n",
    "    conn.commit()\n",
    "\n",
    "except Error:\n",
    "    print(Error)\n",
    "    \n",
    "finally:\n",
    "    dropTableStatement1 = 'DROP TABLE minis'\n",
    "    dropTableStatement2 = 'DROP TABLE store'\n",
    "    dropTableStatement3 = 'DROP TABLE ebay'\n",
    "    c.execute(dropTableStatement1)\n",
    "    c.execute(dropTableStatement2)\n",
    "    c.execute(dropTableStatement3)\n",
    "    c.close()\n",
    "    my_connection.close()   \n",
    "    print('All connections closed')"
   ]
  }
 ],
 "metadata": {
  "kernelspec": {
   "display_name": "Python 3",
   "language": "python",
   "name": "python3"
  },
  "language_info": {
   "codemirror_mode": {
    "name": "ipython",
    "version": 3
   },
   "file_extension": ".py",
   "mimetype": "text/x-python",
   "name": "python",
   "nbconvert_exporter": "python",
   "pygments_lexer": "ipython3",
   "version": "3.7.6"
  }
 },
 "nbformat": 4,
 "nbformat_minor": 4
}
